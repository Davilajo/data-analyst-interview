{
 "cells": [
  {
   "cell_type": "code",
   "execution_count": 1,
   "metadata": {},
   "outputs": [
    {
     "name": "stderr",
     "output_type": "stream",
     "text": [
      "C:\\ProgramData\\Anaconda3\\lib\\site-packages\\IPython\\core\\interactiveshell.py:2785: DtypeWarning: Columns (17,44,50,55,63,69,72) have mixed types. Specify dtype option on import or set low_memory=False.\n",
      "  interactivity=interactivity, compiler=compiler, result=result)\n"
     ]
    }
   ],
   "source": [
    "import pandas as pd\n",
    "import matplotlib.pyplot as plt\n",
    "from sklearn import linear_model\n",
    "from urllib import request\n",
    "\n",
    "#I've imported pandas for data manipulation, matplot for creating plots, and urllib to read in the csv from a URL\n",
    "#First, to open said URL and read it into a pandas dataframe\n",
    "\n",
    "rawData = request.urlopen('https://s3.amazonaws.com/cc-analytics-datasets/Building_Permits.csv')\n",
    "data = pd.read_csv(rawData)"
   ]
  },
  {
   "cell_type": "code",
   "execution_count": 2,
   "metadata": {},
   "outputs": [
    {
     "name": "stdout",
     "output_type": "stream",
     "text": [
      "Rows and Columns, respectively: 141953 and 87\n"
     ]
    }
   ],
   "source": [
    "#I'm getting a warning that some columns have mixed data types.  Upon looking at the csv file, I can't identify the issue so \n",
    "#I can only assume it's due to formatting issues.  I'll ignore for now unless it causes trouble in the analysis\n",
    "\n",
    "#Now, to get the number of rows and columns from the data\n",
    "\n",
    "print (\"Rows and Columns, respectively: %a and %a\" % data.shape)"
   ]
  },
  {
   "cell_type": "markdown",
   "metadata": {},
   "source": [
    "So, there's 141953 rows(total entries) and 87 columns(total fields) in the dataset.  That's a lot of data!"
   ]
  },
  {
   "cell_type": "code",
   "execution_count": 3,
   "metadata": {},
   "outputs": [
    {
     "data": {
      "text/html": [
       "<div>\n",
       "<style scoped>\n",
       "    .dataframe tbody tr th:only-of-type {\n",
       "        vertical-align: middle;\n",
       "    }\n",
       "\n",
       "    .dataframe tbody tr th {\n",
       "        vertical-align: top;\n",
       "    }\n",
       "\n",
       "    .dataframe thead th {\n",
       "        text-align: right;\n",
       "    }\n",
       "</style>\n",
       "<table border=\"1\" class=\"dataframe\">\n",
       "  <thead>\n",
       "    <tr style=\"text-align: right;\">\n",
       "      <th></th>\n",
       "      <th>X</th>\n",
       "      <th>Y</th>\n",
       "      <th>OBJECTID</th>\n",
       "      <th>permitnum</th>\n",
       "      <th>permitclass</th>\n",
       "      <th>estprojectcost</th>\n",
       "      <th>censuslandusecode</th>\n",
       "      <th>devplanid</th>\n",
       "      <th>cocnbr</th>\n",
       "      <th>contractorlicnum</th>\n",
       "      <th>...</th>\n",
       "      <th>housingunitstotal</th>\n",
       "      <th>housingunitsexist</th>\n",
       "      <th>issueddate_mth</th>\n",
       "      <th>issueddate_yr</th>\n",
       "      <th>landusenewuse</th>\n",
       "      <th>latitude_perm</th>\n",
       "      <th>longitude_perm</th>\n",
       "      <th>numberstories</th>\n",
       "      <th>parc_open_space_zone_fee</th>\n",
       "      <th>totalsqft</th>\n",
       "    </tr>\n",
       "  </thead>\n",
       "  <tbody>\n",
       "    <tr>\n",
       "      <th>count</th>\n",
       "      <td>141830.000000</td>\n",
       "      <td>141830.000000</td>\n",
       "      <td>141953.000000</td>\n",
       "      <td>141953.000000</td>\n",
       "      <td>135408.000000</td>\n",
       "      <td>1.419530e+05</td>\n",
       "      <td>135408.000000</td>\n",
       "      <td>127287.000000</td>\n",
       "      <td>2648.000000</td>\n",
       "      <td>122764.000000</td>\n",
       "      <td>...</td>\n",
       "      <td>118563.000000</td>\n",
       "      <td>77393.000000</td>\n",
       "      <td>138519.000000</td>\n",
       "      <td>138519.000000</td>\n",
       "      <td>135722.000000</td>\n",
       "      <td>141830.000000</td>\n",
       "      <td>141830.000000</td>\n",
       "      <td>122442.000000</td>\n",
       "      <td>141949.000000</td>\n",
       "      <td>1.367010e+05</td>\n",
       "    </tr>\n",
       "    <tr>\n",
       "      <th>mean</th>\n",
       "      <td>-78.635798</td>\n",
       "      <td>35.835300</td>\n",
       "      <td>118523.386424</td>\n",
       "      <td>76731.876318</td>\n",
       "      <td>322.068305</td>\n",
       "      <td>1.920127e+05</td>\n",
       "      <td>322.068305</td>\n",
       "      <td>4710.210846</td>\n",
       "      <td>4472.450906</td>\n",
       "      <td>5888.122658</td>\n",
       "      <td>...</td>\n",
       "      <td>2.590707</td>\n",
       "      <td>10.145892</td>\n",
       "      <td>6.407078</td>\n",
       "      <td>2008.795176</td>\n",
       "      <td>262.722875</td>\n",
       "      <td>35.835300</td>\n",
       "      <td>-78.635798</td>\n",
       "      <td>9.707421</td>\n",
       "      <td>2.458552</td>\n",
       "      <td>2.744957e+03</td>\n",
       "    </tr>\n",
       "    <tr>\n",
       "      <th>std</th>\n",
       "      <td>0.068805</td>\n",
       "      <td>0.058392</td>\n",
       "      <td>41024.499284</td>\n",
       "      <td>43864.317257</td>\n",
       "      <td>171.086230</td>\n",
       "      <td>1.493678e+06</td>\n",
       "      <td>171.086230</td>\n",
       "      <td>4467.329704</td>\n",
       "      <td>3646.687083</td>\n",
       "      <td>6006.855697</td>\n",
       "      <td>...</td>\n",
       "      <td>205.286034</td>\n",
       "      <td>46.431197</td>\n",
       "      <td>3.245976</td>\n",
       "      <td>5.486947</td>\n",
       "      <td>281.665535</td>\n",
       "      <td>0.058392</td>\n",
       "      <td>0.068805</td>\n",
       "      <td>1114.892012</td>\n",
       "      <td>1.182591</td>\n",
       "      <td>2.160001e+04</td>\n",
       "    </tr>\n",
       "    <tr>\n",
       "      <th>min</th>\n",
       "      <td>-78.816616</td>\n",
       "      <td>33.956035</td>\n",
       "      <td>47520.000000</td>\n",
       "      <td>5.000000</td>\n",
       "      <td>100.000000</td>\n",
       "      <td>0.000000e+00</td>\n",
       "      <td>100.000000</td>\n",
       "      <td>0.000000</td>\n",
       "      <td>0.000000</td>\n",
       "      <td>2.000000</td>\n",
       "      <td>...</td>\n",
       "      <td>0.000000</td>\n",
       "      <td>0.000000</td>\n",
       "      <td>1.000000</td>\n",
       "      <td>2000.000000</td>\n",
       "      <td>0.000000</td>\n",
       "      <td>33.956035</td>\n",
       "      <td>-78.816616</td>\n",
       "      <td>0.000000</td>\n",
       "      <td>0.000000</td>\n",
       "      <td>0.000000e+00</td>\n",
       "    </tr>\n",
       "    <tr>\n",
       "      <th>25%</th>\n",
       "      <td>-78.681172</td>\n",
       "      <td>35.788197</td>\n",
       "      <td>83008.000000</td>\n",
       "      <td>38924.000000</td>\n",
       "      <td>102.000000</td>\n",
       "      <td>1.000000e+04</td>\n",
       "      <td>102.000000</td>\n",
       "      <td>0.000000</td>\n",
       "      <td>1692.500000</td>\n",
       "      <td>907.000000</td>\n",
       "      <td>...</td>\n",
       "      <td>1.000000</td>\n",
       "      <td>0.000000</td>\n",
       "      <td>4.000000</td>\n",
       "      <td>2004.000000</td>\n",
       "      <td>110.000000</td>\n",
       "      <td>35.788197</td>\n",
       "      <td>-78.681172</td>\n",
       "      <td>1.000000</td>\n",
       "      <td>1.000000</td>\n",
       "      <td>1.400000e+02</td>\n",
       "    </tr>\n",
       "    <tr>\n",
       "      <th>50%</th>\n",
       "      <td>-78.637151</td>\n",
       "      <td>35.834122</td>\n",
       "      <td>118496.000000</td>\n",
       "      <td>76739.000000</td>\n",
       "      <td>434.000000</td>\n",
       "      <td>5.440400e+04</td>\n",
       "      <td>434.000000</td>\n",
       "      <td>5528.000000</td>\n",
       "      <td>3334.500000</td>\n",
       "      <td>3189.000000</td>\n",
       "      <td>...</td>\n",
       "      <td>1.000000</td>\n",
       "      <td>1.000000</td>\n",
       "      <td>6.000000</td>\n",
       "      <td>2008.000000</td>\n",
       "      <td>110.000000</td>\n",
       "      <td>35.834122</td>\n",
       "      <td>-78.637151</td>\n",
       "      <td>2.000000</td>\n",
       "      <td>2.000000</td>\n",
       "      <td>1.139000e+03</td>\n",
       "    </tr>\n",
       "    <tr>\n",
       "      <th>75%</th>\n",
       "      <td>-78.577937</td>\n",
       "      <td>35.885177</td>\n",
       "      <td>153984.000000</td>\n",
       "      <td>114674.000000</td>\n",
       "      <td>434.000000</td>\n",
       "      <td>1.350000e+05</td>\n",
       "      <td>434.000000</td>\n",
       "      <td>7581.000000</td>\n",
       "      <td>6917.500000</td>\n",
       "      <td>9869.000000</td>\n",
       "      <td>...</td>\n",
       "      <td>1.000000</td>\n",
       "      <td>1.000000</td>\n",
       "      <td>9.000000</td>\n",
       "      <td>2014.000000</td>\n",
       "      <td>153.000000</td>\n",
       "      <td>35.885177</td>\n",
       "      <td>-78.577937</td>\n",
       "      <td>2.000000</td>\n",
       "      <td>4.000000</td>\n",
       "      <td>2.433000e+03</td>\n",
       "    </tr>\n",
       "    <tr>\n",
       "      <th>max</th>\n",
       "      <td>-78.490945</td>\n",
       "      <td>35.970246</td>\n",
       "      <td>190277.000000</td>\n",
       "      <td>152586.000000</td>\n",
       "      <td>649.000000</td>\n",
       "      <td>1.700000e+08</td>\n",
       "      <td>649.000000</td>\n",
       "      <td>22611.000000</td>\n",
       "      <td>22034.000000</td>\n",
       "      <td>23356.000000</td>\n",
       "      <td>...</td>\n",
       "      <td>70000.000000</td>\n",
       "      <td>940.000000</td>\n",
       "      <td>12.000000</td>\n",
       "      <td>2018.000000</td>\n",
       "      <td>991.000000</td>\n",
       "      <td>35.970246</td>\n",
       "      <td>-78.490945</td>\n",
       "      <td>342365.000000</td>\n",
       "      <td>4.000000</td>\n",
       "      <td>6.627080e+06</td>\n",
       "    </tr>\n",
       "  </tbody>\n",
       "</table>\n",
       "<p>8 rows × 24 columns</p>\n",
       "</div>"
      ],
      "text/plain": [
       "                   X              Y       OBJECTID      permitnum  \\\n",
       "count  141830.000000  141830.000000  141953.000000  141953.000000   \n",
       "mean      -78.635798      35.835300  118523.386424   76731.876318   \n",
       "std         0.068805       0.058392   41024.499284   43864.317257   \n",
       "min       -78.816616      33.956035   47520.000000       5.000000   \n",
       "25%       -78.681172      35.788197   83008.000000   38924.000000   \n",
       "50%       -78.637151      35.834122  118496.000000   76739.000000   \n",
       "75%       -78.577937      35.885177  153984.000000  114674.000000   \n",
       "max       -78.490945      35.970246  190277.000000  152586.000000   \n",
       "\n",
       "         permitclass  estprojectcost  censuslandusecode      devplanid  \\\n",
       "count  135408.000000    1.419530e+05      135408.000000  127287.000000   \n",
       "mean      322.068305    1.920127e+05         322.068305    4710.210846   \n",
       "std       171.086230    1.493678e+06         171.086230    4467.329704   \n",
       "min       100.000000    0.000000e+00         100.000000       0.000000   \n",
       "25%       102.000000    1.000000e+04         102.000000       0.000000   \n",
       "50%       434.000000    5.440400e+04         434.000000    5528.000000   \n",
       "75%       434.000000    1.350000e+05         434.000000    7581.000000   \n",
       "max       649.000000    1.700000e+08         649.000000   22611.000000   \n",
       "\n",
       "             cocnbr  contractorlicnum      ...       housingunitstotal  \\\n",
       "count   2648.000000     122764.000000      ...           118563.000000   \n",
       "mean    4472.450906       5888.122658      ...                2.590707   \n",
       "std     3646.687083       6006.855697      ...              205.286034   \n",
       "min        0.000000          2.000000      ...                0.000000   \n",
       "25%     1692.500000        907.000000      ...                1.000000   \n",
       "50%     3334.500000       3189.000000      ...                1.000000   \n",
       "75%     6917.500000       9869.000000      ...                1.000000   \n",
       "max    22034.000000      23356.000000      ...            70000.000000   \n",
       "\n",
       "       housingunitsexist  issueddate_mth  issueddate_yr  landusenewuse  \\\n",
       "count       77393.000000   138519.000000  138519.000000  135722.000000   \n",
       "mean           10.145892        6.407078    2008.795176     262.722875   \n",
       "std            46.431197        3.245976       5.486947     281.665535   \n",
       "min             0.000000        1.000000    2000.000000       0.000000   \n",
       "25%             0.000000        4.000000    2004.000000     110.000000   \n",
       "50%             1.000000        6.000000    2008.000000     110.000000   \n",
       "75%             1.000000        9.000000    2014.000000     153.000000   \n",
       "max           940.000000       12.000000    2018.000000     991.000000   \n",
       "\n",
       "       latitude_perm  longitude_perm  numberstories  parc_open_space_zone_fee  \\\n",
       "count  141830.000000   141830.000000  122442.000000             141949.000000   \n",
       "mean       35.835300      -78.635798       9.707421                  2.458552   \n",
       "std         0.058392        0.068805    1114.892012                  1.182591   \n",
       "min        33.956035      -78.816616       0.000000                  0.000000   \n",
       "25%        35.788197      -78.681172       1.000000                  1.000000   \n",
       "50%        35.834122      -78.637151       2.000000                  2.000000   \n",
       "75%        35.885177      -78.577937       2.000000                  4.000000   \n",
       "max        35.970246      -78.490945  342365.000000                  4.000000   \n",
       "\n",
       "          totalsqft  \n",
       "count  1.367010e+05  \n",
       "mean   2.744957e+03  \n",
       "std    2.160001e+04  \n",
       "min    0.000000e+00  \n",
       "25%    1.400000e+02  \n",
       "50%    1.139000e+03  \n",
       "75%    2.433000e+03  \n",
       "max    6.627080e+06  \n",
       "\n",
       "[8 rows x 24 columns]"
      ]
     },
     "execution_count": 3,
     "metadata": {},
     "output_type": "execute_result"
    }
   ],
   "source": [
    "data.describe()"
   ]
  },
  {
   "cell_type": "markdown",
   "metadata": {},
   "source": [
    "Here's some quick summary statistics on the numerical fields in our data.  But, there's a lot of columns and some of these stats are obviously more useful than others.  Many fields don't seem to tell much, so it'll take some work to parse through the data and find what's useful.  Immediately I can tell that something like OBJECT ID probably doesn't mean anything, while a field such as totalsqft (Total Square Feet) likely correlates with other fields, say, estimated project cost.\n",
    "\n",
    "\n",
    "How many different types of construction are there in this dataset?"
   ]
  },
  {
   "cell_type": "code",
   "execution_count": 4,
   "metadata": {},
   "outputs": [
    {
     "name": "stdout",
     "output_type": "stream",
     "text": [
      "18\n"
     ]
    }
   ],
   "source": [
    "print(data['const_type'].nunique())"
   ]
  },
  {
   "cell_type": "markdown",
   "metadata": {},
   "source": [
    "So, there are 18 different types of construction in the dataset.\n",
    "\n",
    "\n",
    "What is the mean and median number of stories of the buildings in this data set?"
   ]
  },
  {
   "cell_type": "code",
   "execution_count": 5,
   "metadata": {},
   "outputs": [
    {
     "name": "stdout",
     "output_type": "stream",
     "text": [
      "Mean: 9.707420656310743\n",
      "Median: 2.0\n"
     ]
    }
   ],
   "source": [
    "print(\"Mean: %a\" % data['numberstories'].mean())\n",
    "print(\"Median: %a\" % data['numberstories'].median())"
   ]
  },
  {
   "cell_type": "markdown",
   "metadata": {},
   "source": [
    "Mean number of stories is 9.7, which is actually higher than I thought it would be.  I guess very tall buildings such as skyscrapers are so far above average in stories that it brings up the average noticeably.  The median number of stories is 2, which makes sense intuitively.\n",
    "\n",
    "Now, what's the standard deviation for the X and Y coordinates of this dataset?"
   ]
  },
  {
   "cell_type": "code",
   "execution_count": 6,
   "metadata": {},
   "outputs": [
    {
     "name": "stdout",
     "output_type": "stream",
     "text": [
      "St. Dev for X: 0.06880533619261185\n",
      "St. Dev for Y: 0.05839207500294413\n"
     ]
    }
   ],
   "source": [
    "print(\"St. Dev for X: %a\" % data['X'].std())\n",
    "print(\"St. Dev for Y: %a\" % data['Y'].std())"
   ]
  },
  {
   "cell_type": "markdown",
   "metadata": {},
   "source": [
    "Standard deviation for both X and Y aren't very high; this makes sense as this data is entirely from Raleigh and so one would expect the coordinates to be pretty close together.\n",
    "\n",
    "\n",
    "For the distributions of Estimated Project Cost and Issue Date Month, I will look at either a histogram or a boxplot:  \n",
    "\n",
    "Because Estimated Project Cost covers a very large range of values I believe a box plot will fare better than a histogram.\n",
    "Because the Issue Date Month is only one of twelve categories, I will instead use a histogram to visualize its distribution."
   ]
  },
  {
   "cell_type": "code",
   "execution_count": 7,
   "metadata": {},
   "outputs": [
    {
     "data": {
      "image/png": "[encoded data removed]",
      "text/plain": [
       "<Figure size 720x504 with 1 Axes>"
      ]
     },
     "metadata": {},
     "output_type": "display_data"
    }
   ],
   "source": [
    "figure1 = data.boxplot(column='estprojectcost', figsize=(10,7), grid=False, sym='',showmeans=True, vert=False)\n",
    "figure1.set_title('Estimated Project Cost', fontsize=25)\n",
    "figure1.set_yticks(())\n",
    "figure1.set_xticks((0,10e4,20e4,30e4))\n",
    "figure1.tick_params(labelsize=12)"
   ]
  },
  {
   "cell_type": "markdown",
   "metadata": {},
   "source": [
    "The mean is far above the median for the Estimated Project Cost, indicating that the numbers are right-skewed.  This makes sense; the cost of most projects are going to be somewhat moderate, while the top 25 percent of costs range so high that it brings the mean up.  This aligns with intuition; of course the expensive projects are going to be less numerous and account for less volume of the total values compared to the cheaper and easier to execute projects.\n",
    "\n",
    "Now for the histogram of issue date months."
   ]
  },
  {
   "cell_type": "code",
   "execution_count": 8,
   "metadata": {},
   "outputs": [
    {
     "data": {
      "image/png": "[encoded data removed]",
      "text/plain": [
       "<Figure size 1800x720 with 1 Axes>"
      ]
     },
     "metadata": {},
     "output_type": "display_data"
    }
   ],
   "source": [
    "figure2 = data['issueddate_mth'].plot(kind='hist',figsize=(25,10), rwidth=.9, bins=range(1,14), grid=False, color='#3399ff', edgecolor='k',align='left')\n",
    "figure2.set_title('Issue Date Month', fontsize=25)\n",
    "figure2.set_ylabel('',)\n",
    "figure2.set_yticks((0,4000,8000,12000))\n",
    "figure2.set_xticks((1,2,3,4,5,6,7,8,9,10,11,12))\n",
    "figure2.tick_params(labelsize=20)"
   ]
  },
  {
   "cell_type": "markdown",
   "metadata": {},
   "source": [
    "Interestingly, it looks like the number of permits issued increases towards the middle of the year, with an unusual dip in July resulting in a somewhat bimodal distribution.  Despite this odd dip, the amount of permits issued in the first and last two months of the year are clearly less than the rest of the year.  When thinking about it in seasons, winter is the season when we see the least permits being issued, with spring being the most.  Summer comes in second, and autumn is third.  \n",
    "\n",
    "Perhaps in many areas it becomes hard to survey the land or search for new locations in winter and that results in less permits being applied for to begin with; or maybe for the same reasons it becomes harder for the proper authority to approve permits in the winter."
   ]
  },
  {
   "cell_type": "markdown",
   "metadata": {},
   "source": [
    "So it looks like some higher-ups want to see a regression between Permit Issue year and Estimated Project Cost.  Let's get to it!"
   ]
  },
  {
   "cell_type": "code",
   "execution_count": 9,
   "metadata": {},
   "outputs": [
    {
     "data": {
      "text/html": [
       "<div>\n",
       "<style scoped>\n",
       "    .dataframe tbody tr th:only-of-type {\n",
       "        vertical-align: middle;\n",
       "    }\n",
       "\n",
       "    .dataframe tbody tr th {\n",
       "        vertical-align: top;\n",
       "    }\n",
       "\n",
       "    .dataframe thead th {\n",
       "        text-align: right;\n",
       "    }\n",
       "</style>\n",
       "<table border=\"1\" class=\"dataframe\">\n",
       "  <thead>\n",
       "    <tr style=\"text-align: right;\">\n",
       "      <th></th>\n",
       "      <th>X</th>\n",
       "      <th>Y</th>\n",
       "      <th>OBJECTID</th>\n",
       "      <th>permittypemapped</th>\n",
       "      <th>permitnum</th>\n",
       "      <th>workclass</th>\n",
       "      <th>permitclass</th>\n",
       "      <th>proposedworkdescription</th>\n",
       "      <th>permitclassmapped</th>\n",
       "      <th>applieddate</th>\n",
       "      <th>...</th>\n",
       "      <th>totalsqft</th>\n",
       "      <th>voiddate</th>\n",
       "      <th>workclassmapped</th>\n",
       "      <th>GlobalID</th>\n",
       "      <th>CreationDate</th>\n",
       "      <th>Creator</th>\n",
       "      <th>EditDate</th>\n",
       "      <th>Editor</th>\n",
       "      <th>const_type</th>\n",
       "      <th>occupancyclass</th>\n",
       "    </tr>\n",
       "  </thead>\n",
       "  <tbody>\n",
       "    <tr>\n",
       "      <th>1</th>\n",
       "      <td>-78.534184</td>\n",
       "      <td>35.729309</td>\n",
       "      <td>48521</td>\n",
       "      <td>Building</td>\n",
       "      <td>147288</td>\n",
       "      <td>New Building</td>\n",
       "      <td>101.0</td>\n",
       "      <td>SFD</td>\n",
       "      <td>Residential</td>\n",
       "      <td>2018-03-02T15:16:37.000Z</td>\n",
       "      <td>...</td>\n",
       "      <td>1684.0</td>\n",
       "      <td>NaN</td>\n",
       "      <td>New</td>\n",
       "      <td>f114dc19-3b62-459b-bd6c-9084162403c8</td>\n",
       "      <td>2018-03-16T01:55:55.663Z</td>\n",
       "      <td>justin.greco@raleighnc.gov_ral</td>\n",
       "      <td>2018-06-12T22:02:31.949Z</td>\n",
       "      <td>OpenData_ral</td>\n",
       "      <td>V  B</td>\n",
       "      <td>RESIDENT 3  SFD/DUP</td>\n",
       "    </tr>\n",
       "    <tr>\n",
       "      <th>2</th>\n",
       "      <td>-78.534323</td>\n",
       "      <td>35.728595</td>\n",
       "      <td>48522</td>\n",
       "      <td>Building</td>\n",
       "      <td>147287</td>\n",
       "      <td>New Building</td>\n",
       "      <td>101.0</td>\n",
       "      <td>SFD</td>\n",
       "      <td>Residential</td>\n",
       "      <td>2018-03-02T15:08:25.000Z</td>\n",
       "      <td>...</td>\n",
       "      <td>2378.0</td>\n",
       "      <td>NaN</td>\n",
       "      <td>New</td>\n",
       "      <td>d4b182cb-af25-4c3f-92a9-a59d4b82ada3</td>\n",
       "      <td>2018-03-16T01:55:55.663Z</td>\n",
       "      <td>justin.greco@raleighnc.gov_ral</td>\n",
       "      <td>2018-06-13T22:02:40.102Z</td>\n",
       "      <td>OpenData_ral</td>\n",
       "      <td>V  B</td>\n",
       "      <td>RESIDENT 3  SFD/DUP</td>\n",
       "    </tr>\n",
       "    <tr>\n",
       "      <th>3</th>\n",
       "      <td>-78.531789</td>\n",
       "      <td>35.729794</td>\n",
       "      <td>48523</td>\n",
       "      <td>Building</td>\n",
       "      <td>147286</td>\n",
       "      <td>New Building</td>\n",
       "      <td>101.0</td>\n",
       "      <td>NEW SFD</td>\n",
       "      <td>Residential</td>\n",
       "      <td>2018-03-02T15:00:47.000Z</td>\n",
       "      <td>...</td>\n",
       "      <td>1392.0</td>\n",
       "      <td>NaN</td>\n",
       "      <td>New</td>\n",
       "      <td>ecc76e8c-48d3-4529-a7ae-f1d616592c08</td>\n",
       "      <td>2018-03-16T01:55:55.663Z</td>\n",
       "      <td>justin.greco@raleighnc.gov_ral</td>\n",
       "      <td>2018-06-27T22:02:34.320Z</td>\n",
       "      <td>OpenData_ral</td>\n",
       "      <td>V  B</td>\n",
       "      <td>RESIDENT 3  SFD/DUP</td>\n",
       "    </tr>\n",
       "    <tr>\n",
       "      <th>4</th>\n",
       "      <td>-78.533914</td>\n",
       "      <td>35.729473</td>\n",
       "      <td>48524</td>\n",
       "      <td>Building</td>\n",
       "      <td>147284</td>\n",
       "      <td>New Building</td>\n",
       "      <td>101.0</td>\n",
       "      <td>NEW SFD</td>\n",
       "      <td>Residential</td>\n",
       "      <td>2018-03-02T14:32:33.000Z</td>\n",
       "      <td>...</td>\n",
       "      <td>1392.0</td>\n",
       "      <td>NaN</td>\n",
       "      <td>New</td>\n",
       "      <td>a1074b43-bc40-4efa-bc7f-a167c351c327</td>\n",
       "      <td>2018-03-16T01:55:55.663Z</td>\n",
       "      <td>justin.greco@raleighnc.gov_ral</td>\n",
       "      <td>2018-06-12T22:02:31.949Z</td>\n",
       "      <td>OpenData_ral</td>\n",
       "      <td>V  B</td>\n",
       "      <td>RESIDENT 3  SFD/DUP</td>\n",
       "    </tr>\n",
       "    <tr>\n",
       "      <th>9</th>\n",
       "      <td>-78.594252</td>\n",
       "      <td>35.909492</td>\n",
       "      <td>48529</td>\n",
       "      <td>Building</td>\n",
       "      <td>147194</td>\n",
       "      <td>New Building</td>\n",
       "      <td>318.0</td>\n",
       "      <td>PAVILLION NEAR POOL, GRILLS, SEATING</td>\n",
       "      <td>Residential</td>\n",
       "      <td>2018-02-27T21:31:37.000Z</td>\n",
       "      <td>...</td>\n",
       "      <td>504.0</td>\n",
       "      <td>NaN</td>\n",
       "      <td>New</td>\n",
       "      <td>39eb46ff-e7d2-4c23-95f8-71c4f67b3924</td>\n",
       "      <td>2018-03-16T01:55:55.663Z</td>\n",
       "      <td>justin.greco@raleighnc.gov_ral</td>\n",
       "      <td>2018-04-23T19:46:09.547Z</td>\n",
       "      <td>OpenData_ral</td>\n",
       "      <td>V  B</td>\n",
       "      <td>ASSEMBLY 3</td>\n",
       "    </tr>\n",
       "  </tbody>\n",
       "</table>\n",
       "<p>5 rows × 87 columns</p>\n",
       "</div>"
      ],
      "text/plain": [
       "           X          Y  OBJECTID permittypemapped  permitnum     workclass  \\\n",
       "1 -78.534184  35.729309     48521         Building     147288  New Building   \n",
       "2 -78.534323  35.728595     48522         Building     147287  New Building   \n",
       "3 -78.531789  35.729794     48523         Building     147286  New Building   \n",
       "4 -78.533914  35.729473     48524         Building     147284  New Building   \n",
       "9 -78.594252  35.909492     48529         Building     147194  New Building   \n",
       "\n",
       "   permitclass               proposedworkdescription permitclassmapped  \\\n",
       "1        101.0                                   SFD       Residential   \n",
       "2        101.0                                   SFD       Residential   \n",
       "3        101.0                               NEW SFD       Residential   \n",
       "4        101.0                               NEW SFD       Residential   \n",
       "9        318.0  PAVILLION NEAR POOL, GRILLS, SEATING       Residential   \n",
       "\n",
       "                applieddate         ...          totalsqft  voiddate  \\\n",
       "1  2018-03-02T15:16:37.000Z         ...             1684.0       NaN   \n",
       "2  2018-03-02T15:08:25.000Z         ...             2378.0       NaN   \n",
       "3  2018-03-02T15:00:47.000Z         ...             1392.0       NaN   \n",
       "4  2018-03-02T14:32:33.000Z         ...             1392.0       NaN   \n",
       "9  2018-02-27T21:31:37.000Z         ...              504.0       NaN   \n",
       "\n",
       "  workclassmapped                              GlobalID  \\\n",
       "1             New  f114dc19-3b62-459b-bd6c-9084162403c8   \n",
       "2             New  d4b182cb-af25-4c3f-92a9-a59d4b82ada3   \n",
       "3             New  ecc76e8c-48d3-4529-a7ae-f1d616592c08   \n",
       "4             New  a1074b43-bc40-4efa-bc7f-a167c351c327   \n",
       "9             New  39eb46ff-e7d2-4c23-95f8-71c4f67b3924   \n",
       "\n",
       "               CreationDate                         Creator  \\\n",
       "1  2018-03-16T01:55:55.663Z  justin.greco@raleighnc.gov_ral   \n",
       "2  2018-03-16T01:55:55.663Z  justin.greco@raleighnc.gov_ral   \n",
       "3  2018-03-16T01:55:55.663Z  justin.greco@raleighnc.gov_ral   \n",
       "4  2018-03-16T01:55:55.663Z  justin.greco@raleighnc.gov_ral   \n",
       "9  2018-03-16T01:55:55.663Z  justin.greco@raleighnc.gov_ral   \n",
       "\n",
       "                   EditDate        Editor const_type       occupancyclass  \n",
       "1  2018-06-12T22:02:31.949Z  OpenData_ral       V  B  RESIDENT 3  SFD/DUP  \n",
       "2  2018-06-13T22:02:40.102Z  OpenData_ral       V  B  RESIDENT 3  SFD/DUP  \n",
       "3  2018-06-27T22:02:34.320Z  OpenData_ral       V  B  RESIDENT 3  SFD/DUP  \n",
       "4  2018-06-12T22:02:31.949Z  OpenData_ral       V  B  RESIDENT 3  SFD/DUP  \n",
       "9  2018-04-23T19:46:09.547Z  OpenData_ral       V  B           ASSEMBLY 3  \n",
       "\n",
       "[5 rows x 87 columns]"
      ]
     },
     "execution_count": 9,
     "metadata": {},
     "output_type": "execute_result"
    }
   ],
   "source": [
    "#First I'll make a new data frame that fits their specifications\n",
    "\n",
    "data2 = data[(data.workclassmapped=='New') & (data.const_type=='V  B') & (data.numberstories<3) ]\n",
    "data2.head()"
   ]
  },
  {
   "cell_type": "code",
   "execution_count": 10,
   "metadata": {
    "scrolled": true
   },
   "outputs": [
    {
     "name": "stdout",
     "output_type": "stream",
     "text": [
      "Number of null values for Est. Project Costs: 0\n",
      "Number of null values for Issue Year: 193\n",
      "Total number of values in modified data: 31044\n"
     ]
    }
   ],
   "source": [
    "#Now to trim it down, I'm going to again copy the dataset to another that will only have the two relevant fields for regression\n",
    "\n",
    "data3 = data2[['estprojectcost','issueddate_yr']]\n",
    "\n",
    "#Now let's see how many null values there are in these fields\n",
    "\n",
    "nullProjectCosts = data3['estprojectcost'].isnull().sum()\n",
    "nullIssueYear = data3['issueddate_yr'].isnull().sum()\n",
    "print(\"Number of null values for Est. Project Costs: %a\" % (nullProjectCosts))\n",
    "print(\"Number of null values for Issue Year: %a\" % (nullIssueYear))\n",
    "print(\"Total number of values in modified data: %a\" % (data2['estprojectcost'].count()))"
   ]
  },
  {
   "cell_type": "markdown",
   "metadata": {},
   "source": [
    "Thankfully, there are no null values for Estimated Project Costs.  However, there are 193 null values for Permit Issue Year.\n",
    "The total amount of records in our modified dataset is 31044.  I will opt to simply drop the null value fields, as missing only 193 records will not result in a statistically signifigant difference in regression.  \n",
    "(Note: Another option is to try and lift the missing value year records out of the issue date if a given record still has that intact.  Looking at the data set it looks like that tends not to be the case; even if it was the case, I don't believe that 193 records out of 31000 would be worth the additional code complexity and programming time.)"
   ]
  },
  {
   "cell_type": "code",
   "execution_count": 11,
   "metadata": {},
   "outputs": [
    {
     "name": "stdout",
     "output_type": "stream",
     "text": [
      "Number of null values for Est. Project Costs: 0\n",
      "Number of null values for Issue Year: 0\n"
     ]
    }
   ],
   "source": [
    "data4 = data3.dropna()\n",
    "nullProjectCosts = data4['estprojectcost'].isnull().sum()\n",
    "nullIssueYear = data4['issueddate_yr'].isnull().sum()\n",
    "print(\"Number of null values for Est. Project Costs: %a\" % (nullProjectCosts))\n",
    "print(\"Number of null values for Issue Year: %a\" % (nullIssueYear))"
   ]
  },
  {
   "cell_type": "code",
   "execution_count": 12,
   "metadata": {},
   "outputs": [],
   "source": [
    "##Now, let's create our linear regression model\n",
    "\n",
    "x = data4['issueddate_yr']\n",
    "y = data4['estprojectcost']\n",
    "y = y.values.reshape(-1,1)\n",
    "x = x.values.reshape(-1,1)\n",
    "\n",
    "lm = linear_model.LinearRegression()\n",
    "model = lm.fit(x,y)"
   ]
  },
  {
   "cell_type": "markdown",
   "metadata": {},
   "source": [
    "So now the model is up and running.  First of all, I wonder what the R^2 score is from just this simple linear regression?"
   ]
  },
  {
   "cell_type": "code",
   "execution_count": 13,
   "metadata": {},
   "outputs": [
    {
     "name": "stdout",
     "output_type": "stream",
     "text": [
      "Score is: 0.004787684627756694\n"
     ]
    }
   ],
   "source": [
    "print(\"Score is: %a\" %(lm.score(x,y)))"
   ]
  },
  {
   "cell_type": "markdown",
   "metadata": {},
   "source": [
    "This score is...underwhelming to say the least.  I wonder if management chose bad factors to analyze or if something else may be afoot.  Let's see what a scatterplot says."
   ]
  },
  {
   "cell_type": "code",
   "execution_count": 14,
   "metadata": {},
   "outputs": [
    {
     "data": {
      "text/plain": [
       "Text(0.5,0,'Permit Issue Date')"
      ]
     },
     "execution_count": 14,
     "metadata": {},
     "output_type": "execute_result"
    },
    {
     "data": {
      "image/png": "[encoded data removed]",
      "text/plain": [
       "<Figure size 720x720 with 1 Axes>"
      ]
     },
     "metadata": {},
     "output_type": "display_data"
    }
   ],
   "source": [
    "figure3 = data4[(data4.estprojectcost<.4e7)].plot(x='issueddate_yr', y ='estprojectcost', kind = 'scatter', fontsize=11, figsize=(10,10), grid=False, s=20, color='.5')\n",
    "figure3.set_title('Permit Issue Date vs Estimated Cost', fontsize=17)\n",
    "figure3.set_ylabel(ylabel='Estimated Cost',fontsize=15, labelpad=30)\n",
    "figure3.set_xlabel(xlabel='Permit Issue Date', fontsize=15, labelpad=30)\n",
    "\n",
    "#Note: I decided to remove some outliers from this visualization in order to better show my points.  For my\n",
    "#purposes, outliers will only obfuscate what I'm trying to show."
   ]
  },
  {
   "cell_type": "markdown",
   "metadata": {},
   "source": [
    "So, like the model score implies, a linear model doesn't help a lot with this relationship because it's, well, not linear.  In fact, there seems to be no correlation at all.  However visualizing the plots does give some useful information:\n",
    "\n",
    "While the actual estimated cost doesn't seem to vary much in relation to the permit issue year, the variance in the estimate cost does.  In 2008 there was a crash in the housing market.  As the plot shows, there was a particularly high amount of variability in estimated costs this year."
   ]
  },
  {
   "cell_type": "code",
   "execution_count": 15,
   "metadata": {},
   "outputs": [
    {
     "name": "stdout",
     "output_type": "stream",
     "text": [
      "2002  St. Deviation: 162485.95770959655\n",
      "2003  St. Deviation: 110308.52203062645\n",
      "2004  St. Deviation: 89037.32210121654\n",
      "2005  St. Deviation: 92140.11679036432\n",
      "2006  St. Deviation: 197623.62361647794\n",
      "2007  St. Deviation: 161781.29888125576\n",
      "2008  St. Deviation: 3658584.9692149325\n",
      "2009  St. Deviation: 362958.56492718816\n",
      "2010  St. Deviation: 353863.5816085823\n",
      "2011  St. Deviation: 176135.41138994458\n",
      "2012  St. Deviation: 187952.64650298646\n",
      "2013  St. Deviation: 223489.92466586444\n",
      "2014  St. Deviation: 256992.4311758892\n",
      "2015  St. Deviation: 216477.92254093333\n",
      "2016  St. Deviation: 221221.87433983272\n",
      "2017  St. Deviation: 195485.83499104265\n",
      "2018  St. Deviation: 155966.2600790397\n"
     ]
    }
   ],
   "source": [
    "#Let's look numerically at the variance across these years:\n",
    "for i in range(2002, 2019):\n",
    "    yearStd = data4[(data4.issueddate_yr==i)]\n",
    "    print(i,\" St. Deviation: %a\" % (yearStd['estprojectcost'].std()))"
   ]
  },
  {
   "cell_type": "markdown",
   "metadata": {},
   "source": [
    "As you can see, the standard deviation for Estimated Cost is much higher in 2008 than any other year from 2002-2012.  The years directly after '08 are also much higher than the rest of the years.  So, I wonder if one could use variability of Estimated Cost of building projects to predict if the economy is in a recession?  This is a novel idea, however I do doubt it.\n",
    "\n",
    "The data set I am analyzing has been broken down to New buildings that have less than 2 stories as well as a construction type of V B (though admittedly I'm not sure what that means).  So the housing bubble that bursted at this time would be very represented in 2008 and probably is the reason for the high variability.  I'd imagine other types of buildings, though likely still high in variance, wouldn't be quite as extreme.\n",
    "\n",
    "\n",
    "Overall, I would tell whomever I'm reporting to that the correlation between estimated project cost and year is virtually nonexistant.  Instead, the variability is what really changes throughout the years, notably coinciding with the 2008 recession.  More variability in estimated costs can point to higher risks in undertaking a project for both the investor and the undertaker; but most would agree that it's intuitive that recessions are riskier times for all."
   ]
  }
 ],
 "metadata": {
  "kernelspec": {
   "display_name": "Python 3",
   "language": "python",
   "name": "python3"
  },
  "language_info": {
   "codemirror_mode": {
    "name": "ipython",
    "version": 3
   },
   "file_extension": ".py",
   "mimetype": "text/x-python",
   "name": "python",
   "nbconvert_exporter": "python",
   "pygments_lexer": "ipython3",
   "version": "3.6.5"
  }
 },
 "nbformat": 4,
 "nbformat_minor": 2
}
